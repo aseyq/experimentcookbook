{
  "cells": [
    {
      "cell_type": "markdown",
      "metadata": {},
      "source": [
        "## Using Python as calculator\n",
        "\n",
        "- Using `python` as calculator:\n"
      ],
      "id": "9b094889"
    },
    {
      "cell_type": "code",
      "metadata": {},
      "source": [
        "42 + 38"
      ],
      "id": "97b06177",
      "execution_count": null,
      "outputs": []
    },
    {
      "cell_type": "code",
      "metadata": {},
      "source": [
        "36 * 5"
      ],
      "id": "7f7cc71e",
      "execution_count": null,
      "outputs": []
    },
    {
      "cell_type": "markdown",
      "metadata": {},
      "source": [
        "## Arithmethic Operators in Python\n",
        "|   |   |\n",
        "|---|---|\n",
        "| `a + b` | Addition |\n",
        "| `a - b` | Subtraction |\n",
        "| `a * b` | Mutiplication |\n",
        "| `a / b` | Division |\n",
        "| `a ** b`|  Exponention (\\\\( a^b \\\\)) |\n",
        "| `a % b` | Modulo (\\\\( a \\\\: mod \\\\: b \\\\)) |\n",
        "\n",
        "## Variables in Python\n",
        "\n",
        "- Links a value to a name\n",
        "- Case-sensitive\n",
        "- Can contain any alphanumeric characters and underscores (A-z, 0-9, _)\n",
        "- Cannot start with a number\n",
        "- You can print the value of a parameter with the `print()` function.\n",
        "- Oftentimes just a variable name is enough to print it.\n"
      ],
      "id": "af9e5956"
    },
    {
      "cell_type": "code",
      "metadata": {},
      "source": [
        "height = 100 * 2\n",
        "print(height)"
      ],
      "id": "bcf106d4",
      "execution_count": null,
      "outputs": []
    },
    {
      "cell_type": "code",
      "metadata": {},
      "source": [
        "height"
      ],
      "id": "c9296032",
      "execution_count": null,
      "outputs": []
    },
    {
      "cell_type": "code",
      "metadata": {
        "output-location": "column-fragment"
      },
      "source": [
        "height = 297\n",
        "width = 210\n",
        "\n",
        "area_mm2 = height * width\n",
        "print(area_mm2)"
      ],
      "id": "f351ab74",
      "execution_count": null,
      "outputs": []
    },
    {
      "cell_type": "markdown",
      "metadata": {},
      "source": [
        "## Commenting in Python\n",
        "If you have the character `#` on a line, Python interpreter will not read the rest of the line\n"
      ],
      "id": "1b3e2fd8"
    },
    {
      "cell_type": "code",
      "metadata": {
        "output-location": "column-fragment"
      },
      "source": [
        "# Area of an A4 paper\n",
        "height = 297 # in mm\n",
        "width = 210  # in mm\n",
        "\n",
        "area_mm2 = height * width  # in mm2\n",
        "print(area_mm2)"
      ],
      "id": "845d32c6",
      "execution_count": null,
      "outputs": []
    },
    {
      "cell_type": "markdown",
      "metadata": {},
      "source": [
        "## Types in Python"
      ],
      "id": "7947e0ae"
    },
    {
      "cell_type": "code",
      "metadata": {
        "output-location": "column-fragment"
      },
      "source": [
        "# Area of an A4 paper\n",
        "height = 297 # in mm\n",
        "type(height)"
      ],
      "id": "dc5fe3c9",
      "execution_count": null,
      "outputs": []
    },
    {
      "cell_type": "code",
      "metadata": {
        "output-location": "column-fragment"
      },
      "source": [
        "# Area of an A4 paper\n",
        "height = 297.0 # in mm\n",
        "type(height)"
      ],
      "id": "cbad236a",
      "execution_count": null,
      "outputs": []
    },
    {
      "cell_type": "code",
      "metadata": {
        "output-location": "column-fragment"
      },
      "source": [
        "# Area of an A4 paper\n",
        "measure_name = \"area\"\n",
        "type(measure_name)"
      ],
      "id": "0cae0116",
      "execution_count": null,
      "outputs": []
    },
    {
      "cell_type": "markdown",
      "metadata": {},
      "source": [
        "- You can check the type of a variable using the `type()` function.\n",
        "\n",
        "## Types in Python\n",
        "We will deal with four main variable types:\n",
        "\n",
        "- Integers (`int`): `1`, `2`, `-5` ,`2910`  \n",
        "- Float (`float`): `1.0`, `2.5`, `-5.3`  (decimal numbers)\n",
        "- String (`str`): `\"hi\"`, `'good morning!'`, `'Wow! 😲'`  (text)\n",
        "- Boolean (`    bool`): `True`, `False` (logical)\n",
        "\n",
        "\n",
        "## Types in Python\n",
        "- Each type has its own set of rules\n"
      ],
      "id": "a87f33e3"
    },
    {
      "cell_type": "code",
      "metadata": {
        "output-location": "column-fragment"
      },
      "source": [
        "3 + 5"
      ],
      "id": "e0b62c55",
      "execution_count": null,
      "outputs": []
    },
    {
      "cell_type": "markdown",
      "metadata": {},
      "source": [
        ". . .\n"
      ],
      "id": "d55b8469"
    },
    {
      "cell_type": "code",
      "metadata": {
        "output-location": "column-fragment"
      },
      "source": [
        "'3' + '5'"
      ],
      "id": "5e2a1983",
      "execution_count": null,
      "outputs": []
    },
    {
      "cell_type": "markdown",
      "metadata": {},
      "source": [
        ". . . \n"
      ],
      "id": "32808a2d"
    },
    {
      "cell_type": "code",
      "metadata": {
        "output-location": "column-fragment"
      },
      "source": [
        "\"Hello\" + \" World!\""
      ],
      "id": "a7beec84",
      "execution_count": null,
      "outputs": []
    },
    {
      "cell_type": "markdown",
      "metadata": {},
      "source": [
        "## Practice\n",
        "<h2> `python_intro/Ex1.ipyb` </h2>\n",
        "<h2> `python_intro/Ex2.ipyb` </h2>\n",
        "\n",
        "\n",
        "## Lists in Python\n",
        "- A list is a collection of items in a particular order.\n",
        "- Lists can contain different types of items.\n"
      ],
      "id": "67143f6b"
    },
    {
      "cell_type": "code",
      "metadata": {
        "output-location": "column-fragment"
      },
      "source": [
        "a = [10,20,30]\n",
        "print(a)"
      ],
      "id": "a77b4f46",
      "execution_count": null,
      "outputs": []
    },
    {
      "cell_type": "code",
      "metadata": {
        "output-location": "column-fragment"
      },
      "source": [
        "b = [\"ali\", \"bob\", \"chiara\"]\n",
        "print(b)"
      ],
      "id": "19fe43bb",
      "execution_count": null,
      "outputs": []
    },
    {
      "cell_type": "code",
      "metadata": {
        "output-location": "column-fragment"
      },
      "source": [
        "c = [\"ali\", 2]\n",
        "print(c)"
      ],
      "id": "eef64301",
      "execution_count": null,
      "outputs": []
    },
    {
      "cell_type": "markdown",
      "metadata": {},
      "source": [
        "## Reaching into List Items in Python\n",
        "- You can access the items in a list using the index.\n",
        "- The index starts from 0.\n",
        "\n",
        "|  |   |   |    |\n",
        "|--:|:---:|:---:|:----:|\n",
        "|my_list =|[ \"ali\", | \"bob\", | \"chiara\"] |\n",
        "| | `0` | `1` | `2`  |\n"
      ],
      "id": "5419d09c"
    },
    {
      "cell_type": "code",
      "metadata": {},
      "source": [
        "#| echo: false\n",
        "my_list = [\"ali\", \"bob\", \"chiara\"]"
      ],
      "id": "329ea944",
      "execution_count": null,
      "outputs": []
    },
    {
      "cell_type": "code",
      "metadata": {
        "output-location": "column-fragment"
      },
      "source": [
        "my_list[0]"
      ],
      "id": "a1414561",
      "execution_count": null,
      "outputs": []
    },
    {
      "cell_type": "code",
      "metadata": {
        "output-location": "column-fragment"
      },
      "source": [
        "my_list[1]"
      ],
      "id": "1c260f12",
      "execution_count": null,
      "outputs": []
    },
    {
      "cell_type": "code",
      "metadata": {
        "output-location": "column-fragment"
      },
      "source": [
        "my_list[2]"
      ],
      "id": "3880092e",
      "execution_count": null,
      "outputs": []
    },
    {
      "cell_type": "markdown",
      "metadata": {},
      "source": [
        "## Reaching from the end\n",
        "- You can access the items from the end using a negative index starting from -1.\n",
        "\n",
        "|  |   |   |    |\n",
        "|--:|:---:|:---:|:----:|\n",
        "|my_list =|[ \"ali\", | \"bob\", | \"chiara\"] |\n",
        "| | `-3` | `-2` | `-1`  |\n"
      ],
      "id": "2e8b7fa7"
    },
    {
      "cell_type": "code",
      "metadata": {},
      "source": [
        "#| echo: false\n",
        "my_list = [\"ali\", \"bob\", \"chiara\"]"
      ],
      "id": "f86cae42",
      "execution_count": null,
      "outputs": []
    },
    {
      "cell_type": "code",
      "metadata": {
        "output-location": "column-fragment"
      },
      "source": [
        "my_list[-1]"
      ],
      "id": "1002b060",
      "execution_count": null,
      "outputs": []
    },
    {
      "cell_type": "code",
      "metadata": {
        "output-location": "column-fragment"
      },
      "source": [
        "my_list[-3]"
      ],
      "id": "394517ae",
      "execution_count": null,
      "outputs": []
    },
    {
      "cell_type": "markdown",
      "metadata": {},
      "source": [
        "## List Slicing in Python\n",
        "- You can access a subset of a list using the slice operator `:`. \n",
        "\n",
        "- Basic usage \n",
        "\n",
        "<h3 class=\".center\"> [ start : end] </h3>\n",
        "\n",
        "- `end` is not included in the slice.\n"
      ],
      "id": "0d1603f8"
    },
    {
      "cell_type": "code",
      "metadata": {
        "output-location": "column-fragment"
      },
      "source": [
        "my_list = [\"ali\", \"bob\", \"chiara\", \"dominique\", \"elizabeth\"]"
      ],
      "id": "bf10729d",
      "execution_count": null,
      "outputs": []
    },
    {
      "cell_type": "code",
      "metadata": {
        "output-location": "column-fragment"
      },
      "source": [
        "# Get first three items\n",
        "my_list[0:3] "
      ],
      "id": "44433f2a",
      "execution_count": null,
      "outputs": []
    },
    {
      "cell_type": "code",
      "metadata": {
        "output-location": "column-fragment"
      },
      "source": [
        "# Get three items starting from 1\n",
        "my_list[1:4] "
      ],
      "id": "ded9518a",
      "execution_count": null,
      "outputs": []
    },
    {
      "cell_type": "markdown",
      "metadata": {},
      "source": [
        "## List Slicing in Python\n",
        "\n",
        "- If you leave the index empty, python will take from the beggining/end.\n"
      ],
      "id": "e4e847d8"
    },
    {
      "cell_type": "code",
      "metadata": {
        "output-location": "column-fragment"
      },
      "source": [
        "my_list = [\"ali\", \"bob\", \"chiara\", \"dominique\", \"elizabeth\"]"
      ],
      "id": "6aa1ab90",
      "execution_count": null,
      "outputs": []
    },
    {
      "cell_type": "code",
      "metadata": {
        "output-location": "column-fragment"
      },
      "source": [
        "# From the beginning until the index 4\n",
        "my_list[:4] "
      ],
      "id": "e9e46562",
      "execution_count": null,
      "outputs": []
    },
    {
      "cell_type": "code",
      "metadata": {
        "output-location": "column-fragment"
      },
      "source": [
        "# From index 1 until the end\n",
        "my_list[1:] "
      ],
      "id": "c4015b6a",
      "execution_count": null,
      "outputs": []
    },
    {
      "cell_type": "markdown",
      "metadata": {},
      "source": [
        "## Updating List Items in Python\n",
        "- You can update the items in a list using the index.\n"
      ],
      "id": "b2d958cf"
    },
    {
      "cell_type": "code",
      "metadata": {
        "output-location": "column-fragment"
      },
      "source": [
        "#| code-line-numbers: '|3'\n",
        "\n",
        "my_list = [\"ali\", \"bob\", \"chiara\"]\n",
        "\n",
        "my_list[0] = \"alice\"\n",
        "print(my_list)"
      ],
      "id": "83fb2081",
      "execution_count": null,
      "outputs": []
    },
    {
      "cell_type": "markdown",
      "metadata": {},
      "source": [
        "## List Type and Methods\n",
        "- Lists has the type `list`\n"
      ],
      "id": "d91a69bd"
    },
    {
      "cell_type": "code",
      "metadata": {
        "output-location": "column-fragment"
      },
      "source": [
        "my_list = [\"ali\", \"bob\", \"chiara\"]\n",
        "type(my_list)"
      ],
      "id": "eba343d6",
      "execution_count": null,
      "outputs": []
    },
    {
      "cell_type": "markdown",
      "metadata": {},
      "source": [
        "- There are specific operations that can be performed on lists.\n",
        " . \n",
        "\n",
        "- You can add items to a list using the `append()` function.\n"
      ],
      "id": "206e0b8c"
    },
    {
      "cell_type": "code",
      "metadata": {
        "output-location": "column-fragment"
      },
      "source": [
        "my_list.append(\"dominique\")\n",
        "\n",
        "print(my_list)"
      ],
      "id": "e4da6fd9",
      "execution_count": null,
      "outputs": []
    },
    {
      "cell_type": "markdown",
      "metadata": {},
      "source": [
        "## Removing Items from a List in Python\n",
        "- You can remove items from a list using the `pop()` function.\n",
        "- The `pop()` function removes the last item in the list.\n"
      ],
      "id": "1912a3f0"
    },
    {
      "cell_type": "code",
      "metadata": {
        "output-location": "column-fragment"
      },
      "source": [
        "my_list = [\"ali\", \"bob\", \"chiara\"]\n",
        "\n",
        "my_list.pop()\n",
        "print(my_list)"
      ],
      "id": "58642cbc",
      "execution_count": null,
      "outputs": []
    },
    {
      "cell_type": "markdown",
      "metadata": {},
      "source": [
        "- The `pop(index)` function removes the item at the specified index.\n"
      ],
      "id": "02c94a89"
    },
    {
      "cell_type": "code",
      "metadata": {
        "output-location": "column-fragment"
      },
      "source": [
        "my_list = [\"ali\", \"bob\", \"chiara\"]\n",
        "\n",
        "my_list.pop(1)\n",
        "print(my_list)"
      ],
      "id": "33ef0d36",
      "execution_count": null,
      "outputs": []
    },
    {
      "cell_type": "markdown",
      "metadata": {},
      "source": [
        "## Check if an Item Exists in a List in Python\n",
        "- You can check if an item exists in a list using the `in` operator.\n",
        "- Example: \n"
      ],
      "id": "42260e94"
    },
    {
      "cell_type": "code",
      "metadata": {
        "output-location": "column-fragment"
      },
      "source": [
        "my_list = [\"ali\", \"bob\", \"chiara\"]\n",
        "\n",
        "\"ali\" in my_list"
      ],
      "id": "92d8168d",
      "execution_count": null,
      "outputs": []
    },
    {
      "cell_type": "markdown",
      "metadata": {},
      "source": [
        ". . .\n"
      ],
      "id": "c2319386"
    },
    {
      "cell_type": "code",
      "metadata": {
        "output-location": "column-fragment"
      },
      "source": [
        "my_list = [\"ali\", \"bob\", \"chiara\"]\n",
        "\n",
        "\"alessandro\" in my_list"
      ],
      "id": "5f07000c",
      "execution_count": null,
      "outputs": []
    },
    {
      "cell_type": "markdown",
      "metadata": {},
      "source": [
        "## Combining two lists\n",
        "- You can combine two lists with `+` operator.\n",
        "- Example: \n"
      ],
      "id": "8d779829"
    },
    {
      "cell_type": "code",
      "metadata": {
        "output-location": "column-fragment"
      },
      "source": [
        "my_list1 = [\"ali\", \"bob\", \"chiara\"]\n",
        "my_list2 = [\"zoe\", \"yoshua\"]\n",
        "\n",
        "new_list = my_list1 + my_list2\n",
        "print(new_list)"
      ],
      "id": "1e174e0b",
      "execution_count": null,
      "outputs": []
    },
    {
      "cell_type": "markdown",
      "metadata": {},
      "source": [
        "## Practice\n",
        "\n",
        "\n",
        "## Dictionaries\n",
        "- Also a collection of objects like `lists`\n",
        "- Unlike lists, items have keys (in other words keywords)\n",
        "- Can be created with:\n",
        "  - `{key1: value1, key2: value2}`, or\n",
        "  - `dict(key1=value1, key2=value2)`\n"
      ],
      "id": "80cc5506"
    },
    {
      "cell_type": "code",
      "metadata": {
        "output-location": "column-fragment"
      },
      "source": [
        "my_dictionary = {'ali': 1987, 'bob': 1953, 'chiara':1980}\n",
        "print(my_dictionary)"
      ],
      "id": "88722f25",
      "execution_count": null,
      "outputs": []
    },
    {
      "cell_type": "markdown",
      "metadata": {},
      "source": [
        ". . . \n"
      ],
      "id": "f4bfe543"
    },
    {
      "cell_type": "code",
      "metadata": {
        "output-location": "column-fragment"
      },
      "source": [
        "my_dictionary2 = dict(ali=1987, bob=1953, chiara=1980)\n",
        "\n",
        "print(my_dictionary2)"
      ],
      "id": "5daa6ed0",
      "execution_count": null,
      "outputs": []
    },
    {
      "cell_type": "markdown",
      "metadata": {},
      "source": [
        "## Retrieve an item from dictionary\n",
        " - You can retreive an item from a dictionary by its key.\n"
      ],
      "id": "3899c4d1"
    },
    {
      "cell_type": "code",
      "metadata": {
        "output-location": "column-fragment"
      },
      "source": [
        "birthyears = {\"ali\": 1987, \"bob\": 1953, \"chiara\":1980}"
      ],
      "id": "ed379637",
      "execution_count": null,
      "outputs": []
    },
    {
      "cell_type": "code",
      "metadata": {
        "output-location": "column-fragment"
      },
      "source": [
        "birthyears[\"bob\"]"
      ],
      "id": "031a750a",
      "execution_count": null,
      "outputs": []
    },
    {
      "cell_type": "markdown",
      "metadata": {},
      "source": [
        "## Adding a new item to dictionary\n"
      ],
      "id": "a7ddcfda"
    },
    {
      "cell_type": "code",
      "metadata": {
        "output-location": "column-fragment"
      },
      "source": [
        "birthyears = {\"ali\": 1987, \n",
        "              \"bob\": 1953, \n",
        "              \"chiara\":1980}\n",
        "\n",
        "birthyears['dana'] = 1992\n",
        "print(birthyears)"
      ],
      "id": "3d0eab60",
      "execution_count": null,
      "outputs": []
    },
    {
      "cell_type": "markdown",
      "metadata": {},
      "source": [
        "## Practice\n",
        "\n",
        "## Logical Operators\n",
        "* We have two logical values: `True` and `False`\n",
        "\n",
        "* `and` and `or` and `not` are the logical operators\n",
        "\n",
        "* `and` means that both conditions must be true\n",
        "\n",
        "* `or` means that at least one condition must be true\n",
        "\n",
        "* `not` reverses the logical value\n"
      ],
      "id": "3e31eef1"
    },
    {
      "cell_type": "code",
      "metadata": {
        "output-location": "column-fragment"
      },
      "source": [
        "a = 5\n",
        "b = 10"
      ],
      "id": "e124e41b",
      "execution_count": null,
      "outputs": []
    },
    {
      "cell_type": "code",
      "metadata": {
        "output-location": "column-fragment"
      },
      "source": [
        "print(a == 5 and b == 10)"
      ],
      "id": "2a688828",
      "execution_count": null,
      "outputs": []
    },
    {
      "cell_type": "markdown",
      "metadata": {},
      "source": [
        ". . . \n"
      ],
      "id": "f9451c62"
    },
    {
      "cell_type": "code",
      "metadata": {
        "output-location": "column-fragment"
      },
      "source": [
        "print(a == 5 and b == 5)"
      ],
      "id": "d95ba408",
      "execution_count": null,
      "outputs": []
    },
    {
      "cell_type": "markdown",
      "metadata": {},
      "source": [
        ". . .\n"
      ],
      "id": "840c3aa1"
    },
    {
      "cell_type": "code",
      "metadata": {
        "output-location": "column-fragment"
      },
      "source": [
        "print(a == 1 or b == 10)"
      ],
      "id": "943acddc",
      "execution_count": null,
      "outputs": []
    },
    {
      "cell_type": "markdown",
      "metadata": {},
      "source": [
        ". . .\n"
      ],
      "id": "cb1aece8"
    },
    {
      "cell_type": "code",
      "metadata": {
        "output-location": "column-fragment"
      },
      "source": [
        "print(not a == 1)"
      ],
      "id": "7f33daa1",
      "execution_count": null,
      "outputs": []
    },
    {
      "cell_type": "markdown",
      "metadata": {},
      "source": [
        "## Logical Operators"
      ],
      "id": "4241f66a"
    },
    {
      "cell_type": "code",
      "metadata": {
        "output-location": "column-fragment"
      },
      "source": [
        "a = 5\n",
        "b = 10"
      ],
      "id": "e66a4a10",
      "execution_count": null,
      "outputs": []
    },
    {
      "cell_type": "markdown",
      "metadata": {},
      "source": [
        ". . .\n"
      ],
      "id": "a89c89c5"
    },
    {
      "cell_type": "code",
      "metadata": {
        "output-location": "column-fragment"
      },
      "source": [
        "print(a == 1 or b == 10)"
      ],
      "id": "3e441e3d",
      "execution_count": null,
      "outputs": []
    },
    {
      "cell_type": "markdown",
      "metadata": {},
      "source": [
        ". . .\n"
      ],
      "id": "b8a7b0e7"
    },
    {
      "cell_type": "code",
      "metadata": {
        "output-location": "column-fragment"
      },
      "source": [
        "print(not a == 1)"
      ],
      "id": "6a0df21a",
      "execution_count": null,
      "outputs": []
    },
    {
      "cell_type": "markdown",
      "metadata": {},
      "source": [
        "## `if` statement\n"
      ],
      "id": "55310fed"
    },
    {
      "cell_type": "code",
      "metadata": {
        "output-location": "column-fragment"
      },
      "source": [
        "my_variable = 42"
      ],
      "id": "dfe50c73",
      "execution_count": null,
      "outputs": []
    },
    {
      "cell_type": "code",
      "metadata": {
        "output-location": "column-fragment"
      },
      "source": [
        "my_variable = 42\n",
        "if my_variable < 50:\n",
        "    print(\"the variable is smaller than 50\")"
      ],
      "id": "8190e26e",
      "execution_count": null,
      "outputs": []
    },
    {
      "cell_type": "markdown",
      "metadata": {},
      "source": [
        "## Very important: Indentation"
      ],
      "id": "1ff0b0e3"
    },
    {
      "cell_type": "code",
      "metadata": {
        "output-location": "column-fragment"
      },
      "source": [
        "my_variable = 42\n",
        "\n",
        "if my_variable < 50:\n",
        "    print(\"the variable is smaller than 50\")"
      ],
      "id": "ce9d8714",
      "execution_count": null,
      "outputs": []
    },
    {
      "cell_type": "markdown",
      "metadata": {},
      "source": [
        "- Python doesn't have braces like `{ }` or `end` statements to indicate the span.\n",
        "\n",
        ". . . \n",
        "\n",
        "- Instead the hierarchy/ownership of the statements are determined by indents.\n",
        "\n",
        ". . . \n",
        "\n",
        "* `Four spaces` is the accepted convention but you can use `tab` or the another number of spaces as long as it is consistent.\n",
        "\n",
        ". . . \n",
        "\n",
        "- Graphical user interfaces often add four spaces instead of a tab.\n",
        "\n",
        "\n",
        "\n",
        "## `else` statement\n"
      ],
      "id": "3b57f77f"
    },
    {
      "cell_type": "code",
      "metadata": {
        "output-location": "column-fragment"
      },
      "source": [
        "my_variable = 42\n",
        "\n",
        "if my_variable < 50:\n",
        "    print(\"the variable is smaller than 50\")\n",
        "else:\n",
        "    print(\"the variable is bigger than 50\")"
      ],
      "id": "dcbcb2b3",
      "execution_count": null,
      "outputs": []
    },
    {
      "cell_type": "markdown",
      "metadata": {},
      "source": [
        ". . . \n",
        "\n",
        "## `elif` statement\n"
      ],
      "id": "058def4c"
    },
    {
      "cell_type": "code",
      "metadata": {
        "output-location": "column-fragment"
      },
      "source": [
        "my_variable = 42\n",
        "\n",
        "if my_variable < 40:\n",
        "    print(\"the variable is smaller than 40\")\n",
        "elif my_variable < 50:\n",
        "    print(\"the variable is between 40 and 50\")\n",
        "else:\n",
        "    print(\"the variable is bigger than 50\")"
      ],
      "id": "87118e0e",
      "execution_count": null,
      "outputs": []
    },
    {
      "cell_type": "markdown",
      "metadata": {},
      "source": [
        "## Functions in Python\n",
        "* Python has many built-in functions\n"
      ],
      "id": "33764b4b"
    },
    {
      "cell_type": "code",
      "metadata": {},
      "source": [
        "ages = [39,48,21,59]\n",
        "\n",
        "max(ages)"
      ],
      "id": "84feb273",
      "execution_count": null,
      "outputs": []
    },
    {
      "cell_type": "code",
      "metadata": {},
      "source": [
        "my_name = \"ali\"\n",
        "len(my_name)"
      ],
      "id": "aec5db6c",
      "execution_count": null,
      "outputs": []
    },
    {
      "cell_type": "markdown",
      "metadata": {},
      "source": [
        "## We can build our own functions\n",
        "* Functions are defined with `def` keyword."
      ],
      "id": "de1d6819"
    },
    {
      "cell_type": "code",
      "metadata": {
        "output-location": "column-fragment"
      },
      "source": [
        "def min_max_difference(x):\n",
        "    return(max(x) - min(x))\n",
        "    # Beware of indentation\n",
        "\n",
        "\n",
        "ages = [39,48,21,59]\n",
        "min_max_difference(ages)"
      ],
      "id": "db7d584e",
      "execution_count": null,
      "outputs": []
    },
    {
      "cell_type": "markdown",
      "metadata": {},
      "source": [
        "## Methods\n",
        "* Some functions are associated to objects. They are called methods.\n",
        "\n",
        "* The syntax for methods is `my_object.do_something()`\n"
      ],
      "id": "c2cc633b"
    },
    {
      "cell_type": "code",
      "metadata": {},
      "source": [
        "ages = [39,48,21,59]\n",
        "\n",
        "ages.index(21) # find the index of a given item"
      ],
      "id": "9bd67911",
      "execution_count": null,
      "outputs": []
    },
    {
      "cell_type": "markdown",
      "metadata": {},
      "source": [
        "## Loop over a range of numbers\n",
        "\n",
        "- Python creates a range object that is iterable with `range()` function. \n",
        "\n",
        "- Then one can loop over it to make calculations.\n"
      ],
      "id": "d9485380"
    },
    {
      "cell_type": "code",
      "metadata": {
        "output-location": "column-fragment"
      },
      "source": [
        "for i in range(3,6):\n",
        "  print(i**2)"
      ],
      "id": "48dd6330",
      "execution_count": null,
      "outputs": []
    },
    {
      "cell_type": "markdown",
      "metadata": {},
      "source": [
        "## For loop over list items\n",
        "\n",
        "* Lists are not just good for collecting items\n",
        "* Also for looping over them\n",
        "\n",
        ". . . \n"
      ],
      "id": "1aed9a7a"
    },
    {
      "cell_type": "code",
      "metadata": {
        "output-location": "column-fragment"
      },
      "source": [
        "my_list = [1,2,3,4]"
      ],
      "id": "f32f7073",
      "execution_count": null,
      "outputs": []
    },
    {
      "cell_type": "code",
      "metadata": {
        "output-location": "column-fragment"
      },
      "source": [
        "for x in my_list:\n",
        "  print(x ** 2)"
      ],
      "id": "2ddf382e",
      "execution_count": null,
      "outputs": []
    },
    {
      "cell_type": "markdown",
      "metadata": {},
      "source": [
        "## Creating a new list using for loop\n",
        "\n",
        "* We can generate an empty list and add items recursively.\n",
        "\n",
        ". . . \n",
        "\n",
        "* `list_name.append()` to add an item to a list\n",
        "\n",
        "\n",
        ". . . \n",
        "\n",
        "\n",
        "Example:\n"
      ],
      "id": "678125df"
    },
    {
      "cell_type": "code",
      "metadata": {
        "output-location": "column-fragment"
      },
      "source": [
        "my_list = [1,2,3,4]\n",
        "\n",
        "squares = []\n",
        "\n",
        "for x in my_list:\n",
        "  squares.append(x ** 2)\n"
      ],
      "id": "fb4c3d59",
      "execution_count": null,
      "outputs": []
    },
    {
      "cell_type": "markdown",
      "metadata": {},
      "source": [
        ". . . \n"
      ],
      "id": "1e2f8af4"
    },
    {
      "cell_type": "code",
      "metadata": {
        "output-location": "column-fragment"
      },
      "source": [
        "print(squares)"
      ],
      "id": "fe5ad86a",
      "execution_count": null,
      "outputs": []
    },
    {
      "cell_type": "markdown",
      "metadata": {},
      "source": [
        "## List Comprehension\n",
        "* List comprehension is a shorter syntax when you create a new list based on another list."
      ],
      "id": "0148465b"
    },
    {
      "cell_type": "code",
      "metadata": {
        "output-location": "column-fragment"
      },
      "source": [
        "my_list = [1,2,3,4]"
      ],
      "id": "adb3ef68",
      "execution_count": null,
      "outputs": []
    },
    {
      "cell_type": "code",
      "metadata": {
        "output-location": "column-fragment"
      },
      "source": [
        "squares = []\n",
        "\n",
        "for x in my_list:\n",
        "  squares.append(x ** 2)"
      ],
      "id": "55332581",
      "execution_count": null,
      "outputs": []
    },
    {
      "cell_type": "markdown",
      "metadata": {},
      "source": [
        ". . . \n",
        "\n",
        "we can write instead:\n"
      ],
      "id": "9645ef01"
    },
    {
      "cell_type": "code",
      "metadata": {
        "output-location": "column-fragment"
      },
      "source": [
        "squares = [x ** 2 for x in my_list]"
      ],
      "id": "a4200ab2",
      "execution_count": null,
      "outputs": []
    },
    {
      "cell_type": "markdown",
      "metadata": {},
      "source": [
        ". . . \n",
        "\n",
        "$$\n",
        "S = \\\\{ x^2 | \\text{ for all } x \\in \\text{my_list} \\\\}\n",
        "$$\n",
        "\n",
        "\n",
        "## List Comprehension\n"
      ],
      "id": "264e97e3"
    },
    {
      "cell_type": "code",
      "metadata": {
        "output-location": "column-fragment"
      },
      "source": [
        "my_list = [1,2,3,4]\n",
        "squares = [x ** 2 for x in my_list]\n",
        "print(squares)"
      ],
      "id": "e708916f",
      "execution_count": null,
      "outputs": []
    },
    {
      "cell_type": "markdown",
      "metadata": {},
      "source": [
        "<br>\n",
        "\n",
        ". . . \n",
        "\n",
        "<br>\n",
        "* We can also add conditions\n"
      ],
      "id": "11e8f47b"
    },
    {
      "cell_type": "code",
      "metadata": {
        "output-location": "column-fragment"
      },
      "source": [
        "my_list = [1,2,3,4]\n",
        "squares = [x ** 2 for x in my_list if x > 2]\n",
        "print(squares)"
      ],
      "id": "c2ba8ccd",
      "execution_count": null,
      "outputs": []
    },
    {
      "cell_type": "markdown",
      "metadata": {},
      "source": [
        "## Modules\n",
        "- One great advantage of python that it has a vast ecosystem of packages.\n",
        "\n",
        "- Some packages are build in, but still needs to be imported.\n",
        "\n",
        "- Python use the syntax `import packagename` to import a package.\n",
        "\n",
        "- The functions, methods etc. comes as a subset of the package, which can be reached by a dot.\n",
        "\n",
        ". . ."
      ],
      "id": "ec78f6e7"
    },
    {
      "cell_type": "code",
      "metadata": {
        "output-location": "column-fragment"
      },
      "source": [
        "import random\n",
        "\n",
        "random.choice(['ali', \"bob\", \"chiara\"])"
      ],
      "id": "cdcc6009",
      "execution_count": null,
      "outputs": []
    },
    {
      "cell_type": "markdown",
      "metadata": {},
      "source": [
        "## Modules\n",
        "- You can also import all objects directly. Then you wont need to call the package name before.\n",
        ". . ."
      ],
      "id": "3fcb29d1"
    },
    {
      "cell_type": "code",
      "metadata": {
        "output-location": "column-fragment"
      },
      "source": [
        "from random import *\n",
        "\n",
        "choice(['ali', \"bob\", \"chiara\"])"
      ],
      "id": "a2ee2a44",
      "execution_count": null,
      "outputs": []
    },
    {
      "cell_type": "markdown",
      "metadata": {},
      "source": [
        ". . .\n",
        "\n",
        "- Or a subset:\n"
      ],
      "id": "2c96e199"
    },
    {
      "cell_type": "code",
      "metadata": {
        "output-location": "column-fragment"
      },
      "source": [
        "from random import choice\n",
        "\n",
        "choice(['ali', \"bob\", \"chiara\"])"
      ],
      "id": "0d4e8be4",
      "execution_count": null,
      "outputs": []
    },
    {
      "cell_type": "markdown",
      "metadata": {},
      "source": [
        "## Modules\n",
        "- Or you can use an alias for the module\n",
        ". . ."
      ],
      "id": "63c9bf34"
    },
    {
      "cell_type": "code",
      "metadata": {
        "output-location": "column-fragment"
      },
      "source": [
        "import random as rnd\n",
        "\n",
        "rnd.choice(['ali', \"bob\", \"chiara\"])"
      ],
      "id": "3f9931fa",
      "execution_count": null,
      "outputs": []
    },
    {
      "cell_type": "markdown",
      "metadata": {},
      "source": [
        "## Exercise: Estimating the pi with with Monte Carlo simulation\n",
        "Open `monte_carlo.ipynb`\n",
        "\n",
        ":::: {.columns}\n",
        "\n",
        "::: {.column width=\"50%\"}\n",
        "\n",
        "* We have a square with with height and width of 1.\n",
        "* We have a circle with radius of 0.1\n",
        "* We want to estimate the value of Pi.\n",
        "\n",
        "* We are gonna shoot random arrows inside the square. We will only know if they hit the circle or not.\n",
        ":::\n",
        "\n",
        "::: {.column width=\"50%\"}\n",
        "![](images/montecarlo.png){width=\"400px\"}\n",
        ":::\n",
        "\n",
        "::::"
      ],
      "id": "151d8db4"
    }
  ],
  "metadata": {
    "kernelspec": {
      "display_name": "Python 3",
      "language": "python",
      "name": "python3"
    }
  },
  "nbformat": 4,
  "nbformat_minor": 5
}